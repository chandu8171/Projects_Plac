{
 "cells": [
  {
   "cell_type": "markdown",
   "id": "c6d15287",
   "metadata": {
    "papermill": {
     "duration": 0.007128,
     "end_time": "2023-07-11T19:32:53.863238",
     "exception": false,
     "start_time": "2023-07-11T19:32:53.856110",
     "status": "completed"
    },
    "tags": []
   },
   "source": [
    "# Task:\n",
    "Predict correct positions of markdown cells in the Jupyter notebook based on the given ordred code cells.\n",
    "\n",
    "# Input:\n",
    "- markdown cells text\n",
    "    - unordered\n",
    "- code cells text\n",
    "    - must be ordered\n",
    "\n",
    "# Output:\n",
    "The original positions of the markdown cells in the Jupyter notebook"
   ]
  },
  {
   "cell_type": "markdown",
   "id": "b43719cd",
   "metadata": {
    "papermill": {
     "duration": 0.006062,
     "end_time": "2023-07-11T19:32:53.875673",
     "exception": false,
     "start_time": "2023-07-11T19:32:53.869611",
     "status": "completed"
    },
    "tags": []
   },
   "source": [
    "# Import and Load pipeline"
   ]
  },
  {
   "cell_type": "code",
   "execution_count": 1,
   "id": "4b8f1230",
   "metadata": {
    "execution": {
     "iopub.execute_input": "2023-07-11T19:32:53.890229Z",
     "iopub.status.busy": "2023-07-11T19:32:53.889535Z",
     "iopub.status.idle": "2023-07-11T19:32:54.828600Z",
     "shell.execute_reply": "2023-07-11T19:32:54.827468Z"
    },
    "papermill": {
     "duration": 0.949024,
     "end_time": "2023-07-11T19:32:54.831119",
     "exception": false,
     "start_time": "2023-07-11T19:32:53.882095",
     "status": "completed"
    },
    "tags": []
   },
   "outputs": [
    {
     "name": "stdout",
     "output_type": "stream",
     "text": [
      "ai4code_parallel_bert  checkpoint\r\n"
     ]
    }
   ],
   "source": [
    "import pathlib\n",
    "MODEL_ROOT = pathlib.Path(\"/kaggle/input/ai4code-parallel-bert/pytorch/deberta-v3-large/2\")\n",
    "!ls $MODEL_ROOT"
   ]
  },
  {
   "cell_type": "code",
   "execution_count": 2,
   "id": "cb372635",
   "metadata": {
    "execution": {
     "iopub.execute_input": "2023-07-11T19:32:54.846290Z",
     "iopub.status.busy": "2023-07-11T19:32:54.845433Z",
     "iopub.status.idle": "2023-07-11T19:32:59.500238Z",
     "shell.execute_reply": "2023-07-11T19:32:59.499169Z"
    },
    "papermill": {
     "duration": 4.664616,
     "end_time": "2023-07-11T19:32:59.502484",
     "exception": false,
     "start_time": "2023-07-11T19:32:54.837868",
     "status": "completed"
    },
    "tags": []
   },
   "outputs": [
    {
     "data": {
      "text/plain": [
       "'/kaggle/input/ai4code-parallel-bert/pytorch/deberta-v3-large/2'"
      ]
     },
     "execution_count": 2,
     "metadata": {},
     "output_type": "execute_result"
    }
   ],
   "source": [
    "import os\n",
    "os.environ[\"TOKENIZERS_PARALLELISM\"] = \"false\"\n",
    "\n",
    "import sys\n",
    "sys.path.append(str(MODEL_ROOT))\n",
    "import ai4code_parallel_bert\n",
    "sys.path.pop(-1)"
   ]
  },
  {
   "cell_type": "code",
   "execution_count": 3,
   "id": "e6eb2705",
   "metadata": {
    "_kg_hide-output": true,
    "execution": {
     "iopub.execute_input": "2023-07-11T19:32:59.518098Z",
     "iopub.status.busy": "2023-07-11T19:32:59.517552Z",
     "iopub.status.idle": "2023-07-11T19:33:40.328863Z",
     "shell.execute_reply": "2023-07-11T19:33:40.327892Z"
    },
    "papermill": {
     "duration": 40.821889,
     "end_time": "2023-07-11T19:33:40.331346",
     "exception": false,
     "start_time": "2023-07-11T19:32:59.509457",
     "status": "completed"
    },
    "tags": []
   },
   "outputs": [
    {
     "name": "stderr",
     "output_type": "stream",
     "text": [
      "/opt/conda/lib/python3.10/site-packages/tensorflow_io/python/ops/__init__.py:98: UserWarning: unable to load libtensorflow_io_plugins.so: unable to open file: libtensorflow_io_plugins.so, from paths: ['/opt/conda/lib/python3.10/site-packages/tensorflow_io/python/ops/libtensorflow_io_plugins.so']\n",
      "caused by: ['/opt/conda/lib/python3.10/site-packages/tensorflow_io/python/ops/libtensorflow_io_plugins.so: undefined symbol: _ZN3tsl6StatusC1EN10tensorflow5error4CodeESt17basic_string_viewIcSt11char_traitsIcEENS_14SourceLocationE']\n",
      "  warnings.warn(f\"unable to load libtensorflow_io_plugins.so: {e}\")\n",
      "/opt/conda/lib/python3.10/site-packages/tensorflow_io/python/ops/__init__.py:104: UserWarning: file system plugins are not loaded: unable to open file: libtensorflow_io.so, from paths: ['/opt/conda/lib/python3.10/site-packages/tensorflow_io/python/ops/libtensorflow_io.so']\n",
      "caused by: ['/opt/conda/lib/python3.10/site-packages/tensorflow_io/python/ops/libtensorflow_io.so: undefined symbol: _ZTVN10tensorflow13GcsFileSystemE']\n",
      "  warnings.warn(f\"file system plugins are not loaded: {e}\")\n"
     ]
    }
   ],
   "source": [
    "CHECKPOINT_PATH = MODEL_ROOT / \"checkpoint/deberta-v3-large\"\n",
    "DEVICE = \"cuda:0\"\n",
    "BERT_PROCESS_BATCH_SIZE = 4\n",
    "\n",
    "pipe = ai4code_parallel_bert.pipeline.Pipeline(CHECKPOINT_PATH, DEVICE, BERT_PROCESS_BATCH_SIZE)"
   ]
  },
  {
   "cell_type": "markdown",
   "id": "52fcbb3a",
   "metadata": {
    "papermill": {
     "duration": 0.00653,
     "end_time": "2023-07-11T19:33:40.344754",
     "exception": false,
     "start_time": "2023-07-11T19:33:40.338224",
     "status": "completed"
    },
    "tags": []
   },
   "source": [
    "# Load competition data"
   ]
  },
  {
   "cell_type": "code",
   "execution_count": 4,
   "id": "1d7237c2",
   "metadata": {
    "_cell_guid": "b1076dfc-b9ad-4769-8c92-a6c4dae69d19",
    "_uuid": "8f2839f25d086af736a60e9eeb907d3b93b6e0e5",
    "execution": {
     "iopub.execute_input": "2023-07-11T19:33:40.359780Z",
     "iopub.status.busy": "2023-07-11T19:33:40.358900Z",
     "iopub.status.idle": "2023-07-11T19:33:41.359933Z",
     "shell.execute_reply": "2023-07-11T19:33:41.358718Z"
    },
    "papermill": {
     "duration": 1.011184,
     "end_time": "2023-07-11T19:33:41.362433",
     "exception": false,
     "start_time": "2023-07-11T19:33:40.351249",
     "status": "completed"
    },
    "tags": []
   },
   "outputs": [
    {
     "name": "stdout",
     "output_type": "stream",
     "text": [
      "sample_submission.csv  test  train  train_ancestors.csv  train_orders.csv\r\n"
     ]
    }
   ],
   "source": [
    "import pathlib\n",
    "COMPETITION_ROOT = pathlib.Path(\"/kaggle/input/AI4Code/\")\n",
    "!ls $COMPETITION_ROOT"
   ]
  },
  {
   "cell_type": "code",
   "execution_count": 5,
   "id": "a8db0848",
   "metadata": {
    "execution": {
     "iopub.execute_input": "2023-07-11T19:33:41.377793Z",
     "iopub.status.busy": "2023-07-11T19:33:41.377429Z",
     "iopub.status.idle": "2023-07-11T19:33:41.412273Z",
     "shell.execute_reply": "2023-07-11T19:33:41.411403Z"
    },
    "papermill": {
     "duration": 0.0449,
     "end_time": "2023-07-11T19:33:41.414343",
     "exception": false,
     "start_time": "2023-07-11T19:33:41.369443",
     "status": "completed"
    },
    "tags": []
   },
   "outputs": [
    {
     "data": {
      "text/plain": [
       "dict_keys(['notebook', 'code', 'markdown'])"
      ]
     },
     "execution_count": 5,
     "metadata": {},
     "output_type": "execute_result"
    }
   ],
   "source": [
    "SAMPLE_TEST_FILE = COMPETITION_ROOT / \"test/0009d135ece78d.json\"\n",
    "notebook_data = ai4code_parallel_bert.pipeline.load_ai4code_json_file(SAMPLE_TEST_FILE)\n",
    "notebook_data.keys()"
   ]
  },
  {
   "cell_type": "code",
   "execution_count": 6,
   "id": "2aeac7e5",
   "metadata": {
    "execution": {
     "iopub.execute_input": "2023-07-11T19:33:41.430464Z",
     "iopub.status.busy": "2023-07-11T19:33:41.429017Z",
     "iopub.status.idle": "2023-07-11T19:33:41.437803Z",
     "shell.execute_reply": "2023-07-11T19:33:41.436894Z"
    },
    "papermill": {
     "duration": 0.018607,
     "end_time": "2023-07-11T19:33:41.439857",
     "exception": false,
     "start_time": "2023-07-11T19:33:41.421250",
     "status": "completed"
    },
    "tags": []
   },
   "outputs": [
    {
     "name": "stdout",
     "output_type": "stream",
     "text": [
      " ========== first code cell text ==========\n",
      "import numpy as np # linear algebra\n",
      "import pandas as pd # data processing,\n",
      "import matplotlib.pyplot as plt\n",
      "from sklearn.decomposition import PCA\n",
      "from sklearn.preprocessing import StandardScaler\n",
      "from sklearn.preprocessing import scale\n",
      "from sklearn.impute import SimpleImputer\n",
      "\n",
      "\n",
      "import os\n",
      "for dirname, _, filenames in os.walk('/kaggle/input'):\n",
      "    for filename in filenames:\n",
      "        print(os.path.join(dirname, filename))\n",
      "\n",
      " ========== second code cell text ==========\n",
      "df = pd.read_csv('/kaggle/input/breast-cancer-wisconsin-data/data.csv')\n",
      "df\n",
      "\n",
      " ========== code cell ids ==========\n",
      "['ddfd239c', 'c6cd22db', '1372ae9b', '90ed07ab', '7f388a41', '2843a25a', '06dbf8cf']\n"
     ]
    }
   ],
   "source": [
    "print(\" ========== first code cell text ==========\")\n",
    "print(notebook_data[\"code\"][\"texts\"][0])\n",
    "print()\n",
    "\n",
    "print(\" ========== second code cell text ==========\")\n",
    "print(notebook_data[\"code\"][\"texts\"][1])\n",
    "print()\n",
    "\n",
    "print(\" ========== code cell ids ==========\")\n",
    "print(notebook_data[\"code\"][\"cell_ids\"])"
   ]
  },
  {
   "cell_type": "code",
   "execution_count": 7,
   "id": "2dca612a",
   "metadata": {
    "execution": {
     "iopub.execute_input": "2023-07-11T19:33:41.455152Z",
     "iopub.status.busy": "2023-07-11T19:33:41.454351Z",
     "iopub.status.idle": "2023-07-11T19:33:41.460557Z",
     "shell.execute_reply": "2023-07-11T19:33:41.459711Z"
    },
    "papermill": {
     "duration": 0.016197,
     "end_time": "2023-07-11T19:33:41.462895",
     "exception": false,
     "start_time": "2023-07-11T19:33:41.446698",
     "status": "completed"
    },
    "tags": []
   },
   "outputs": [
    {
     "name": "stdout",
     "output_type": "stream",
     "text": [
      " ========== a markdown cell text ==========\n",
      "# Scaling Data ⚖\n",
      "Let's scale the data so PCA can be applied\n",
      "\n",
      " ========== another markdown cell text ==========\n",
      "## Testing Plots >w>\n",
      "Let's these mystery soliving plots! :O\n",
      "\n",
      " ========== markdown cell ids ==========\n",
      "['f9893819', 'ba55e576', '39e937ec', 'e25aa9bd', '0a226b6a', '8cb8d28a']\n"
     ]
    }
   ],
   "source": [
    "print(\" ========== a markdown cell text ==========\")\n",
    "print(notebook_data[\"markdown\"][\"texts\"][0])\n",
    "print()\n",
    "\n",
    "print(\" ========== another markdown cell text ==========\")\n",
    "print(notebook_data[\"markdown\"][\"texts\"][1])\n",
    "print()\n",
    "\n",
    "print(\" ========== markdown cell ids ==========\")\n",
    "print(notebook_data[\"markdown\"][\"cell_ids\"])"
   ]
  },
  {
   "cell_type": "markdown",
   "id": "0855a6c1",
   "metadata": {
    "papermill": {
     "duration": 0.006747,
     "end_time": "2023-07-11T19:33:41.476616",
     "exception": false,
     "start_time": "2023-07-11T19:33:41.469869",
     "status": "completed"
    },
    "tags": []
   },
   "source": [
    "# Predict"
   ]
  },
  {
   "cell_type": "code",
   "execution_count": 8,
   "id": "264c59e3",
   "metadata": {
    "execution": {
     "iopub.execute_input": "2023-07-11T19:33:41.492122Z",
     "iopub.status.busy": "2023-07-11T19:33:41.491346Z",
     "iopub.status.idle": "2023-07-11T19:33:42.250774Z",
     "shell.execute_reply": "2023-07-11T19:33:42.249687Z"
    },
    "papermill": {
     "duration": 0.769396,
     "end_time": "2023-07-11T19:33:42.252890",
     "exception": false,
     "start_time": "2023-07-11T19:33:41.483494",
     "status": "completed"
    },
    "tags": []
   },
   "outputs": [
    {
     "name": "stdout",
     "output_type": "stream",
     "text": [
      " ========== keys of output dict ==========\n",
      "dict_keys(['prediction', 'probs', 'cosines', 'code_reprs', 'markdown_reprs'])\n"
     ]
    }
   ],
   "source": [
    "pipeline_input = {\n",
    "    \"code\": {\n",
    "        \"texts\": notebook_data[\"code\"][\"texts\"],\n",
    "        \"cell_ids\": notebook_data[\"code\"][\"cell_ids\"],\n",
    "    },\n",
    "    \"markdown\": {\n",
    "        \"texts\": notebook_data[\"markdown\"][\"texts\"],\n",
    "        \"cell_ids\": notebook_data[\"markdown\"][\"cell_ids\"],\n",
    "    },\n",
    "}\n",
    "\n",
    "import torch\n",
    "with torch.no_grad():\n",
    "  out = pipe(pipeline_input)\n",
    "\n",
    "print(\" ========== keys of output dict ==========\")\n",
    "print(out.keys())"
   ]
  },
  {
   "cell_type": "code",
   "execution_count": 9,
   "id": "db5496f6",
   "metadata": {
    "execution": {
     "iopub.execute_input": "2023-07-11T19:33:42.268627Z",
     "iopub.status.busy": "2023-07-11T19:33:42.268318Z",
     "iopub.status.idle": "2023-07-11T19:33:42.273287Z",
     "shell.execute_reply": "2023-07-11T19:33:42.272369Z"
    },
    "papermill": {
     "duration": 0.015603,
     "end_time": "2023-07-11T19:33:42.275848",
     "exception": false,
     "start_time": "2023-07-11T19:33:42.260245",
     "status": "completed"
    },
    "tags": []
   },
   "outputs": [
    {
     "name": "stdout",
     "output_type": "stream",
     "text": [
      " ========== predicted ordered cell_ids ==========\n",
      "['0a226b6a', 'ddfd239c', '8cb8d28a', 'c6cd22db', '1372ae9b', 'e25aa9bd', '90ed07ab', 'ba55e576', '7f388a41', 'f9893819', '2843a25a', '39e937ec', '06dbf8cf']\n"
     ]
    }
   ],
   "source": [
    "print(\" ========== predicted ordered cell_ids ==========\")\n",
    "print(out[\"prediction\"])"
   ]
  },
  {
   "cell_type": "code",
   "execution_count": 10,
   "id": "50061a18",
   "metadata": {
    "execution": {
     "iopub.execute_input": "2023-07-11T19:33:42.291825Z",
     "iopub.status.busy": "2023-07-11T19:33:42.291050Z",
     "iopub.status.idle": "2023-07-11T19:33:42.310161Z",
     "shell.execute_reply": "2023-07-11T19:33:42.308502Z"
    },
    "papermill": {
     "duration": 0.029138,
     "end_time": "2023-07-11T19:33:42.312139",
     "exception": false,
     "start_time": "2023-07-11T19:33:42.283001",
     "status": "completed"
    },
    "tags": []
   },
   "outputs": [
    {
     "name": "stdout",
     "output_type": "stream",
     "text": [
      " ========== predicted probabilities ==========\n",
      "tensor([[4.4896e-05, 3.2192e-05, 1.0594e-03, 7.1733e-05, 1.5469e-05, 9.9742e-01,\n",
      "         1.3352e-03, 1.7657e-05],\n",
      "        [2.3167e-04, 7.8122e-05, 4.7290e-04, 7.9150e-02, 9.1836e-01, 2.2528e-04,\n",
      "         1.0984e-03, 3.8792e-04],\n",
      "        [7.5998e-04, 2.1722e-04, 1.1652e-04, 4.4985e-04, 5.6027e-04, 2.0520e-03,\n",
      "         9.9424e-01, 1.6015e-03],\n",
      "        [1.3921e-04, 8.4084e-04, 2.7190e-03, 9.9551e-01, 3.3452e-04, 1.8055e-04,\n",
      "         1.3800e-04, 1.3298e-04],\n",
      "        [9.9845e-01, 1.2712e-03, 8.2164e-05, 4.3098e-05, 3.4636e-06, 2.3869e-05,\n",
      "         4.1500e-06, 1.2209e-04],\n",
      "        [1.4749e-03, 9.9662e-01, 1.2392e-03, 1.6844e-04, 4.5129e-04, 4.0670e-05,\n",
      "         1.5635e-06, 6.6760e-06]], device='cuda:0')\n"
     ]
    }
   ],
   "source": [
    "print(\" ========== predicted probabilities ==========\")\n",
    "print(out[\"probs\"])"
   ]
  },
  {
   "cell_type": "markdown",
   "id": "9ffa3c97",
   "metadata": {
    "papermill": {
     "duration": 0.006954,
     "end_time": "2023-07-11T19:33:42.326882",
     "exception": false,
     "start_time": "2023-07-11T19:33:42.319928",
     "status": "completed"
    },
    "tags": []
   },
   "source": [
    "## Since the pipeline appends begin-of-code-cell and end-of-code-cell to code cells, num_code_cell_pairs is one bigger than num_code_cells.\n",
    "NOTE: Here I use the strings \"Begin-of-CodeCell\" and \"End-of-CodeCell\" for ease of visualization, however, during the actual training and inference, an additional BERT special token \"[BLANK_CODE]\" is used to represent both of them. Don't use the strings \"Begin-of-CodeCell\" nor \"End-of-CodeCell\" for the input of the bert-tokenizer. "
   ]
  },
  {
   "cell_type": "code",
   "execution_count": 11,
   "id": "b30fa7b2",
   "metadata": {
    "execution": {
     "iopub.execute_input": "2023-07-11T19:33:42.343177Z",
     "iopub.status.busy": "2023-07-11T19:33:42.342383Z",
     "iopub.status.idle": "2023-07-11T19:33:42.350966Z",
     "shell.execute_reply": "2023-07-11T19:33:42.349499Z"
    },
    "papermill": {
     "duration": 0.01865,
     "end_time": "2023-07-11T19:33:42.352946",
     "exception": false,
     "start_time": "2023-07-11T19:33:42.334296",
     "status": "completed"
    },
    "tags": []
   },
   "outputs": [
    {
     "name": "stdout",
     "output_type": "stream",
     "text": [
      "num_code_cells: 7\n",
      "num_code_cells_with_sentinel: 9\n",
      "num_code_cell_pairs: 8\n",
      "\n",
      "num_markdown_cells: 6\n",
      "\n",
      "shape of output probs(=[num_markdown_cells, num_code_cell_pairs]): torch.Size([6, 8])\n"
     ]
    }
   ],
   "source": [
    "# codes_with_sentinel = [\"[BLANK_CODE]\"] + list(pipeline_input[\"code\"][\"texts\"]) + [\"[BLANK_CODE]\"]\n",
    "codes_with_sentinel = [\"Begin-of-CodeCell\"] + list(pipeline_input[\"code\"][\"texts\"]) + [\"End-of-CodeCell\"]\n",
    "\n",
    "code_pairs = list()\n",
    "for i in range(len(codes_with_sentinel)-1):\n",
    "    pair = [codes_with_sentinel[i], codes_with_sentinel[i+1]]\n",
    "    code_pairs.append(pair)\n",
    "\n",
    "print(\"num_code_cells:\", len(pipeline_input[\"code\"][\"texts\"]))\n",
    "print(\"num_code_cells_with_sentinel:\", len(codes_with_sentinel))\n",
    "print(\"num_code_cell_pairs:\", len(code_pairs))\n",
    "print()\n",
    "print(\"num_markdown_cells:\", len(pipeline_input[\"markdown\"][\"texts\"]))\n",
    "print()\n",
    "print(\"shape of output probs(=[num_markdown_cells, num_code_cell_pairs]):\", out[\"probs\"].shape)"
   ]
  },
  {
   "cell_type": "markdown",
   "id": "155dad97",
   "metadata": {
    "papermill": {
     "duration": 0.007009,
     "end_time": "2023-07-11T19:33:42.367471",
     "exception": false,
     "start_time": "2023-07-11T19:33:42.360462",
     "status": "completed"
    },
    "tags": []
   },
   "source": [
    "# Check predicted positioning"
   ]
  },
  {
   "cell_type": "code",
   "execution_count": 12,
   "id": "34934d2c",
   "metadata": {
    "execution": {
     "iopub.execute_input": "2023-07-11T19:33:42.383584Z",
     "iopub.status.busy": "2023-07-11T19:33:42.382830Z",
     "iopub.status.idle": "2023-07-11T19:33:42.392725Z",
     "shell.execute_reply": "2023-07-11T19:33:42.391524Z"
    },
    "papermill": {
     "duration": 0.020567,
     "end_time": "2023-07-11T19:33:42.395322",
     "exception": false,
     "start_time": "2023-07-11T19:33:42.374755",
     "status": "completed"
    },
    "tags": []
   },
   "outputs": [
    {
     "name": "stdout",
     "output_type": "stream",
     "text": [
      " ========== target markdown cell index ==========\n",
      "0\n",
      "\n",
      " ========== target markdown cell text ==========\n",
      "# Scaling Data ⚖\n",
      "Let's scale the data so PCA can be applied\n",
      "\n",
      " ========== probs ==========\n",
      "0-th code-pair:  0.00%\n",
      "1-th code-pair:  0.00%\n",
      "2-th code-pair:  0.11%\n",
      "3-th code-pair:  0.01%\n",
      "4-th code-pair:  0.00%\n",
      "5-th code-pair: 99.74%\n",
      "6-th code-pair:  0.13%\n",
      "7-th code-pair:  0.00%\n",
      "\n",
      " ========== insert to predicted position ==========\n",
      " ---------- pre-markdown code_cell ----------\n",
      "# Ploting data with different columns\n",
      "#####################################\n",
      "comparison_plot_maker(numerical_data[\"radius_mean\"], numerical_data[\"radius_worst\"], \"Mean Radius vs Worst Radius\", \"Mean Radius\", \"Worst Radius\")\n",
      "comparison_plot_maker(numerical_data[\"perimeter_se\"], numerical_data[\"perimeter_worst\"], \"S.D Perimeter vs Worst Perimeter\", \"S.D Perimeter\", \"Worst Perimeter\")\n",
      "comparison_plot_maker(numerical_data[\"compactness_mean\"], numerical_data[\"compactness_se\"], \"Mean Compactness vs S.D Compactness\", \"Mean Compactness\", \"S.D Compactness\")\n",
      "comparison_plot_maker(numerical_data[\"smoothness_mean\"], numerical_data[\"smoothness_worst\"], \"Mean Smoothness vs Worst Smoothness\",\"Mean Smoothness\", \"Worst Smoothness\")\n",
      "comparison_plot_maker(numerical_data[\"texture_se\"], numerical_data[\"texture_mean\"], \"S.D texture vs Mean Texture\", \"S.D texture\", \"Mean Texture\")\n",
      "\n",
      "print('')\n",
      "print('oh, it really works :O')\n",
      "\n",
      " ---------- target markdown_cell ----------\n",
      "# Scaling Data ⚖\n",
      "Let's scale the data so PCA can be applied\n",
      "\n",
      " ---------- post-markdown code_cell ----------\n",
      "# Scaling Data\n",
      "scaler = StandardScaler()\n",
      "scaler.fit(numerical_data)\n",
      "# print(scaled_data)\n",
      "\n",
      "# Assigning Variables\n",
      "X = scaler.transform(numerical_data)\n",
      "y = labels\n",
      "\n",
      "my_imputer = SimpleImputer()\n",
      "pd.DataFrame(X).fillna(0)\n",
      "X = my_imputer.fit_transform(X)\n",
      "\n",
      "print(\"Ignore the errors, they occurred because of NaN values\")\n",
      "print()\n",
      "print(\"But worry not human! The errors are fixed with Imputer >o>\")\n",
      "print()\n"
     ]
    }
   ],
   "source": [
    "TARGET_MARKDOWN_I = 0\n",
    "\n",
    "print(\" ========== target markdown cell index ==========\")\n",
    "print(TARGET_MARKDOWN_I)\n",
    "print()\n",
    "\n",
    "print(\" ========== target markdown cell text ==========\")\n",
    "target_markdown_cell = pipeline_input[\"markdown\"][\"texts\"][TARGET_MARKDOWN_I]\n",
    "print(target_markdown_cell)\n",
    "print()\n",
    "\n",
    "print(\" ========== probs ==========\")\n",
    "probs_for_target_markdown = out[\"probs\"][TARGET_MARKDOWN_I]\n",
    "for i, prob in enumerate(probs_for_target_markdown):\n",
    "    print(f'{i}-th code-pair: {prob*100.0:5.02f}%')\n",
    "print()\n",
    "\n",
    "print(\" ========== insert to predicted position ==========\")\n",
    "selected_code_pair_i = probs_for_target_markdown.argmax().item()\n",
    "pre_markdown_cell, post_markdown_cell = code_pairs[selected_code_pair_i]\n",
    "# selected_code_pair = [pre_markdown, post_markdown]\n",
    "\n",
    "print(\" ---------- pre-markdown code_cell ----------\")\n",
    "print(pre_markdown_cell)\n",
    "print()\n",
    "print(\" ---------- target markdown_cell ----------\")\n",
    "print(target_markdown_cell)\n",
    "print()\n",
    "print(\" ---------- post-markdown code_cell ----------\")\n",
    "print(post_markdown_cell)\n"
   ]
  },
  {
   "cell_type": "markdown",
   "id": "c20defda",
   "metadata": {
    "papermill": {
     "duration": 0.007219,
     "end_time": "2023-07-11T19:33:42.409949",
     "exception": false,
     "start_time": "2023-07-11T19:33:42.402730",
     "status": "completed"
    },
    "tags": []
   },
   "source": [
    "## The output has representation vectors for code cell pairs and markdown cells."
   ]
  },
  {
   "cell_type": "code",
   "execution_count": 13,
   "id": "f9d6efd4",
   "metadata": {
    "execution": {
     "iopub.execute_input": "2023-07-11T19:33:42.425745Z",
     "iopub.status.busy": "2023-07-11T19:33:42.425447Z",
     "iopub.status.idle": "2023-07-11T19:33:42.436749Z",
     "shell.execute_reply": "2023-07-11T19:33:42.435861Z"
    },
    "papermill": {
     "duration": 0.021597,
     "end_time": "2023-07-11T19:33:42.438885",
     "exception": false,
     "start_time": "2023-07-11T19:33:42.417288",
     "status": "completed"
    },
    "tags": []
   },
   "outputs": [
    {
     "name": "stdout",
     "output_type": "stream",
     "text": [
      "code-pair_reprs(=[num_pairs, repr_dim]): torch.Size([8, 256])\n"
     ]
    },
    {
     "data": {
      "text/plain": [
       "tensor([[ 0.0507, -0.0952, -0.0227,  ...,  0.0543,  0.0070,  0.0838],\n",
       "        [ 0.0105, -0.1007,  0.0046,  ...,  0.0105, -0.0048,  0.0334],\n",
       "        [-0.0101,  0.0086, -0.0494,  ..., -0.0774,  0.0316,  0.0843],\n",
       "        ...,\n",
       "        [-0.0481,  0.0524, -0.0391,  ..., -0.0064, -0.0361,  0.0217],\n",
       "        [-0.1147, -0.0101,  0.0007,  ...,  0.0097,  0.0057,  0.0456],\n",
       "        [-0.0273, -0.0920, -0.0476,  ..., -0.0317,  0.0168,  0.0790]],\n",
       "       device='cuda:0')"
      ]
     },
     "execution_count": 13,
     "metadata": {},
     "output_type": "execute_result"
    }
   ],
   "source": [
    "print(\"code-pair_reprs(=[num_pairs, repr_dim]):\", out[\"code_reprs\"].shape)\n",
    "out[\"code_reprs\"]"
   ]
  },
  {
   "cell_type": "code",
   "execution_count": 14,
   "id": "3cf7ca3e",
   "metadata": {
    "execution": {
     "iopub.execute_input": "2023-07-11T19:33:42.455218Z",
     "iopub.status.busy": "2023-07-11T19:33:42.454947Z",
     "iopub.status.idle": "2023-07-11T19:33:42.465196Z",
     "shell.execute_reply": "2023-07-11T19:33:42.464255Z"
    },
    "papermill": {
     "duration": 0.020637,
     "end_time": "2023-07-11T19:33:42.467122",
     "exception": false,
     "start_time": "2023-07-11T19:33:42.446485",
     "status": "completed"
    },
    "tags": []
   },
   "outputs": [
    {
     "name": "stdout",
     "output_type": "stream",
     "text": [
      "markdown_reprs(=[num_markdowns, repr_dim]): torch.Size([6, 256])\n"
     ]
    },
    {
     "data": {
      "text/plain": [
       "tensor([[-0.0059,  0.0160, -0.0207,  ...,  0.0183, -0.0030, -0.0654],\n",
       "        [-0.0787, -0.0384,  0.0820,  ..., -0.0433,  0.0243, -0.0063],\n",
       "        [-0.1392, -0.0541,  0.0666,  ...,  0.0148, -0.0438, -0.0464],\n",
       "        [-0.0809,  0.0125,  0.0241,  ..., -0.1171,  0.0241,  0.1333],\n",
       "        [ 0.0766, -0.0293, -0.1278,  ...,  0.0680,  0.0494,  0.0891],\n",
       "        [ 0.0181, -0.0692,  0.0147,  ...,  0.0345, -0.0260, -0.1126]],\n",
       "       device='cuda:0')"
      ]
     },
     "execution_count": 14,
     "metadata": {},
     "output_type": "execute_result"
    }
   ],
   "source": [
    "print(\"markdown_reprs(=[num_markdowns, repr_dim]):\", out[\"markdown_reprs\"].shape)\n",
    "out[\"markdown_reprs\"]"
   ]
  },
  {
   "cell_type": "markdown",
   "id": "c0d3faae",
   "metadata": {
    "papermill": {
     "duration": 0.00755,
     "end_time": "2023-07-11T19:33:42.482550",
     "exception": false,
     "start_time": "2023-07-11T19:33:42.475000",
     "status": "completed"
    },
    "tags": []
   },
   "source": [
    "# Head-less forwarding\n",
    "If you only need representation vectors, use `pipe.get_network_output` with `reprs_only=True`."
   ]
  },
  {
   "cell_type": "code",
   "execution_count": 15,
   "id": "ea52f7a0",
   "metadata": {
    "execution": {
     "iopub.execute_input": "2023-07-11T19:33:42.499845Z",
     "iopub.status.busy": "2023-07-11T19:33:42.499045Z",
     "iopub.status.idle": "2023-07-11T19:33:42.870943Z",
     "shell.execute_reply": "2023-07-11T19:33:42.869549Z"
    },
    "papermill": {
     "duration": 0.38324,
     "end_time": "2023-07-11T19:33:42.873571",
     "exception": false,
     "start_time": "2023-07-11T19:33:42.490331",
     "status": "completed"
    },
    "tags": []
   },
   "outputs": [
    {
     "name": "stdout",
     "output_type": "stream",
     "text": [
      "code-pair_reps: torch.Size([8, 256])\n",
      "markdown_reps: torch.Size([6, 256])\n"
     ]
    }
   ],
   "source": [
    "from typing import List\n",
    "code_texts:List[str] = notebook_data[\"code\"][\"texts\"]\n",
    "markdown_texts:List[str] = notebook_data[\"markdown\"][\"texts\"]\n",
    "\n",
    "with torch.no_grad():\n",
    "    network_out = pipe.get_network_output(code_texts, markdown_texts, reprs_only=True)\n",
    "\n",
    "print(\"code-pair_reps:\", network_out.code_reprs.shape)\n",
    "print(\"markdown_reps:\", network_out.markdown_reprs.shape)"
   ]
  },
  {
   "cell_type": "markdown",
   "id": "6438bf9a",
   "metadata": {
    "papermill": {
     "duration": 0.008193,
     "end_time": "2023-07-11T19:33:42.889871",
     "exception": false,
     "start_time": "2023-07-11T19:33:42.881678",
     "status": "completed"
    },
    "tags": []
   },
   "source": [
    "------------"
   ]
  },
  {
   "cell_type": "markdown",
   "id": "8ccf3dbd",
   "metadata": {
    "papermill": {
     "duration": 0.007629,
     "end_time": "2023-07-11T19:33:42.905515",
     "exception": false,
     "start_time": "2023-07-11T19:33:42.897886",
     "status": "completed"
    },
    "tags": []
   },
   "source": [
    "# Supplemental: step-by-step prediction\n",
    "\n",
    "We can divide the pipeline process into tokenization and network-forwarding processes. This could be useful for the further fine-tuning.\n",
    "\n",
    "For more infomation, see the source code of `ai4code_parallel_bert`."
   ]
  },
  {
   "cell_type": "code",
   "execution_count": 16,
   "id": "5372f835",
   "metadata": {
    "execution": {
     "iopub.execute_input": "2023-07-11T19:33:42.922569Z",
     "iopub.status.busy": "2023-07-11T19:33:42.922231Z",
     "iopub.status.idle": "2023-07-11T19:33:43.299329Z",
     "shell.execute_reply": "2023-07-11T19:33:43.298186Z"
    },
    "papermill": {
     "duration": 0.388985,
     "end_time": "2023-07-11T19:33:43.302327",
     "exception": false,
     "start_time": "2023-07-11T19:33:42.913342",
     "status": "completed"
    },
    "tags": []
   },
   "outputs": [
    {
     "name": "stdout",
     "output_type": "stream",
     "text": [
      "probs: torch.Size([6, 8])\n",
      "code-pair_reprs: torch.Size([8, 256])\n",
      "markdown_reprs: torch.Size([6, 256])\n"
     ]
    }
   ],
   "source": [
    "bert_tokenizer = pipe.tokenizer\n",
    "\n",
    "each_code_max_length = pipe.each_code_max_length\n",
    "markdown_max_length = pipe.markdown_max_length\n",
    "\n",
    "# tokenize\n",
    "code_texts = notebook_data[\"code\"][\"texts\"]\n",
    "markdown_texts = notebook_data[\"markdown\"][\"texts\"]\n",
    "\n",
    "code_tokenized = bert_tokenizer(code_texts, add_special_tokens=False, truncation=True, max_length=each_code_max_length)[\"input_ids\"]\n",
    "markdown_tokenized = bert_tokenizer(markdown_texts, add_special_tokens=False, truncation=True, max_length=markdown_max_length)[\"input_ids\"]\n",
    "\n",
    "# forward\n",
    "code_inputs, markdown_inputs = pipe.format_input(code_tokenized, markdown_tokenized) # this adds special tokens and begin/end-of-code-cell, then make pairs of code cells.\n",
    "with torch.no_grad():\n",
    "    probs, cosines, code_reprs, markdown_reprs = pipe.network_forward(code_inputs, markdown_inputs, reprs_only=False)\n",
    "\n",
    "# make ordered cell_ids\n",
    "preds = probs.argmax(1).tolist()\n",
    "code_cell_ids = notebook_data[\"code\"][\"cell_ids\"]\n",
    "markdown_cell_ids = notebook_data[\"markdown\"][\"cell_ids\"]\n",
    "\n",
    "pred_order = [list() for _ in range(probs.shape[1])]\n",
    "for code_i, code_cell_id in enumerate(code_cell_ids):\n",
    "    pred_order[code_i+1].append(code_cell_id)\n",
    "for pred_position, markdown_cell_id in zip(preds, markdown_cell_ids):\n",
    "    pred_order[pred_position].append(markdown_cell_id)\n",
    "pred_order = sum(pred_order, list())\n",
    "\n",
    "output = {\n",
    "    \"prediction\": pred_order,\n",
    "    \"probs\": probs,\n",
    "    \"cosines\": cosines,\n",
    "    \"code_reprs\": code_reprs,\n",
    "    \"markdown_reprs\": markdown_reprs,\n",
    "}\n",
    "\n",
    "print(\"probs:\", probs.shape)\n",
    "print(\"code-pair_reprs:\", code_reprs.shape)\n",
    "print(\"markdown_reprs:\", markdown_reprs.shape)"
   ]
  }
 ],
 "metadata": {
  "kernelspec": {
   "display_name": "Python 3",
   "language": "python",
   "name": "python3"
  },
  "language_info": {
   "codemirror_mode": {
    "name": "ipython",
    "version": 3
   },
   "file_extension": ".py",
   "mimetype": "text/x-python",
   "name": "python",
   "nbconvert_exporter": "python",
   "pygments_lexer": "ipython3",
   "version": "3.10.10"
  },
  "papermill": {
   "default_parameters": {},
   "duration": 63.780931,
   "end_time": "2023-07-11T19:33:46.738844",
   "environment_variables": {},
   "exception": null,
   "input_path": "__notebook__.ipynb",
   "output_path": "__notebook__.ipynb",
   "parameters": {},
   "start_time": "2023-07-11T19:32:42.957913",
   "version": "2.4.0"
  }
 },
 "nbformat": 4,
 "nbformat_minor": 5
}
